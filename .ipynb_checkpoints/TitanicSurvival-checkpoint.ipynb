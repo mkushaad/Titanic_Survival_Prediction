{
 "cells": [
  {
   "cell_type": "markdown",
   "id": "46195543-5d1f-4012-a408-1d52024d92f7",
   "metadata": {},
   "source": [
    "## Importing Libraries"
   ]
  },
  {
   "cell_type": "code",
   "execution_count": 4,
   "id": "1dec8d37-f4b9-4aa8-9cd1-67f4adcd1ea6",
   "metadata": {},
   "outputs": [],
   "source": [
    "import pandas as pd #to perform operations on data\n",
    "import numpy as np\n",
    "import matplotlib.pyplot as plt #to visualize data"
   ]
  },
  {
   "cell_type": "markdown",
   "id": "2017d0d4-2f7c-45a3-b337-e8098fe56114",
   "metadata": {},
   "source": [
    "#### It has been a headache for me to find the right path to put in pd.read_csv(). This helps it solve it."
   ]
  },
  {
   "cell_type": "code",
   "execution_count": 17,
   "id": "0caf6d9d-50cf-4008-96bb-26d9b09be4e1",
   "metadata": {},
   "outputs": [
    {
     "name": "stdout",
     "output_type": "stream",
     "text": [
      ".\\Dataset\\titanic\\train.csv\n"
     ]
    }
   ],
   "source": [
    "import os\n",
    "# find path of file relative to cwd\n",
    "for root, dirs, files in os.walk(\".\"):\n",
    "    for file in files:\n",
    "        if \"train.csv\" in file:\n",
    "            print(os.path.join(root, file))\n"
   ]
  },
  {
   "cell_type": "code",
   "execution_count": 21,
   "id": "13fa14da-1ac5-4e8b-bd13-fd3f51d6c934",
   "metadata": {},
   "outputs": [],
   "source": [
    "train = pd.read_csv(\"./Dataset/titanic/train.csv\") # using 'r' before to treats it as literal string with \n",
    "test = pd.read_csv(r\".\\Dataset\\titanic\\test.csv\")   # considering any escape sequence like '\\n'. OR i could use '/' instead  of '\\'"
   ]
  },
  {
   "cell_type": "code",
   "execution_count": null,
   "id": "be975738-d325-4387-8c3a-706d67fa9ea6",
   "metadata": {},
   "outputs": [],
   "source": []
  }
 ],
 "metadata": {
  "kernelspec": {
   "display_name": "Python 3 (ipykernel)",
   "language": "python",
   "name": "python3"
  },
  "language_info": {
   "codemirror_mode": {
    "name": "ipython",
    "version": 3
   },
   "file_extension": ".py",
   "mimetype": "text/x-python",
   "name": "python",
   "nbconvert_exporter": "python",
   "pygments_lexer": "ipython3",
   "version": "3.9.13"
  }
 },
 "nbformat": 4,
 "nbformat_minor": 5
}
